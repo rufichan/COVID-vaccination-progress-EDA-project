{
 "cells": [
  {
   "cell_type": "markdown",
   "id": "e024dcc6",
   "metadata": {
    "papermill": {
     "duration": 0.031038,
     "end_time": "2022-01-25T16:16:19.148718",
     "exception": false,
     "start_time": "2022-01-25T16:16:19.117680",
     "status": "completed"
    },
    "tags": []
   },
   "source": [
    "# EDA project for COVID19 vaccination progress"
   ]
  },
  {
   "cell_type": "markdown",
   "id": "8c8105fa",
   "metadata": {
    "papermill": {
     "duration": 0.029564,
     "end_time": "2022-01-25T16:16:19.210939",
     "exception": false,
     "start_time": "2022-01-25T16:16:19.181375",
     "status": "completed"
    },
    "tags": []
   },
   "source": [
    "Dataset is downloaded by Kaggle: https://www.kaggle.com/gpreda/covid-world-vaccination-progress\n",
    "\n",
    "Content\n",
    "\n",
    "1. The 'country vaccination' dataset contains the following information:\n",
    "\n",
    "Country- this is the country for which the vaccination information is provided;\n",
    "\n",
    "Country ISO Code - ISO code for the country;\n",
    "\n",
    "Date - date for the data entry; for some of the dates we have only the daily vaccinations, for others, only the (cumulative) total;\n",
    "\n",
    "Total number of vaccinations - this is the absolute number of total immunizations in the country;\n",
    "\n",
    "Total number of people vaccinated - a person, depending on the immunization scheme, will receive one or more (typically 2) vaccines; at a certain moment, the number of vaccination might be larger than the number of people;\n",
    "\n",
    "Total number of people fully vaccinated - this is the number of people that received the entire set of immunization according to the immunization scheme (typically 2); at a certain moment in time, there might be a certain number of people that received one vaccine and another number (smaller) of people that received all vaccines in the scheme;\n",
    "\n",
    "Daily vaccinations (raw) - for a certain data entry, the number of vaccination for that date/country;\n",
    "\n",
    "Daily vaccinations - for a certain data entry, the number of vaccination for that date/country;\n",
    "\n",
    "Total vaccinations per hundred - ratio (in percent) between vaccination number and total population up to the date in the country;\n",
    "\n",
    "Total number of people vaccinated per hundred - ratio (in percent) between population immunized and total population up to the date in the country;\n",
    "\n",
    "Total number of people fully vaccinated per hundred - ratio (in percent) between population fully immunized and total population up to the date in the country;\n",
    "\n",
    "Number of vaccinations per day - number of daily vaccination for that day and country;\n",
    "\n",
    "Daily vaccinations per million - ratio (in ppm) between vaccination number and total population for the current date in the country;\n",
    "\n",
    "Vaccines used in the country - total number of vaccines used in the country (up to date);\n",
    "\n",
    "Source name - source of the information (national authority, international organization, local organization etc.);\n",
    "\n",
    "Source website - website of the source of information;\n",
    "\n",
    "\n",
    "2. The 'country vaccinations by manufacturer' dataset contains the following information:\n",
    "\n",
    "Location - country;\n",
    "\n",
    "Date - date;\n",
    "\n",
    "Vaccine - vaccine type;\n",
    "\n",
    "Total number of vaccinations - total number of vaccinations / current time and vaccine type.\n"
   ]
  },
  {
   "cell_type": "markdown",
   "id": "d2275abc",
   "metadata": {
    "papermill": {
     "duration": 0.030333,
     "end_time": "2022-01-25T16:16:19.271225",
     "exception": false,
     "start_time": "2022-01-25T16:16:19.240892",
     "status": "completed"
    },
    "tags": []
   },
   "source": [
    "Import libraries and plot style"
   ]
  },
  {
   "cell_type": "code",
   "execution_count": 1,
   "id": "dcc2b905",
   "metadata": {
    "execution": {
     "iopub.execute_input": "2022-01-25T16:16:19.338693Z",
     "iopub.status.busy": "2022-01-25T16:16:19.338097Z",
     "iopub.status.idle": "2022-01-25T16:16:49.641380Z",
     "shell.execute_reply": "2022-01-25T16:16:49.641918Z"
    },
    "papermill": {
     "duration": 30.341651,
     "end_time": "2022-01-25T16:16:49.642213",
     "exception": false,
     "start_time": "2022-01-25T16:16:19.300562",
     "status": "completed"
    },
    "tags": []
   },
   "outputs": [
    {
     "name": "stdout",
     "output_type": "stream",
     "text": [
      "Requirement already satisfied: plotly in /opt/conda/lib/python3.7/site-packages (5.5.0)\r\n",
      "Requirement already satisfied: six in /opt/conda/lib/python3.7/site-packages (from plotly) (1.16.0)\r\n",
      "Requirement already satisfied: tenacity>=6.2.0 in /opt/conda/lib/python3.7/site-packages (from plotly) (8.0.1)\r\n",
      "\u001b[33mWARNING: Running pip as the 'root' user can result in broken permissions and conflicting behaviour with the system package manager. It is recommended to use a virtual environment instead: https://pip.pypa.io/warnings/venv\u001b[0m\r\n",
      "Note: you may need to restart the kernel to use updated packages.\n"
     ]
    }
   ],
   "source": [
    " pip install plotly "
   ]
  },
  {
   "cell_type": "code",
   "execution_count": 2,
   "id": "773faaa7",
   "metadata": {
    "execution": {
     "iopub.execute_input": "2022-01-25T16:16:49.712495Z",
     "iopub.status.busy": "2022-01-25T16:16:49.711788Z",
     "iopub.status.idle": "2022-01-25T16:16:51.889305Z",
     "shell.execute_reply": "2022-01-25T16:16:51.888732Z"
    },
    "papermill": {
     "duration": 2.216922,
     "end_time": "2022-01-25T16:16:51.889453",
     "exception": false,
     "start_time": "2022-01-25T16:16:49.672531",
     "status": "completed"
    },
    "tags": []
   },
   "outputs": [],
   "source": [
    "import numpy as np\n",
    "import pandas as pd\n",
    "import matplotlib.pyplot as plt\n",
    "import seaborn as sns\n",
    "import plotly.express as px\n",
    "%matplotlib inline"
   ]
  },
  {
   "cell_type": "markdown",
   "id": "6d84c3c7",
   "metadata": {
    "papermill": {
     "duration": 0.029854,
     "end_time": "2022-01-25T16:16:51.949792",
     "exception": false,
     "start_time": "2022-01-25T16:16:51.919938",
     "status": "completed"
    },
    "tags": []
   },
   "source": [
    "Import dataset and perform descripitve analysis"
   ]
  },
  {
   "cell_type": "code",
   "execution_count": 3,
   "id": "00482f18",
   "metadata": {
    "execution": {
     "iopub.execute_input": "2022-01-25T16:16:52.018114Z",
     "iopub.status.busy": "2022-01-25T16:16:52.017391Z",
     "iopub.status.idle": "2022-01-25T16:16:52.166536Z",
     "shell.execute_reply": "2022-01-25T16:16:52.165812Z"
    },
    "papermill": {
     "duration": 0.185954,
     "end_time": "2022-01-25T16:16:52.166818",
     "exception": true,
     "start_time": "2022-01-25T16:16:51.980864",
     "status": "failed"
    },
    "tags": []
   },
   "outputs": [
    {
     "ename": "FileNotFoundError",
     "evalue": "[Errno 2] No such file or directory: '/Users/apple/Documents/Data science/EDA project/country_vaccinations.csv'",
     "output_type": "error",
     "traceback": [
      "\u001b[0;31m---------------------------------------------------------------------------\u001b[0m",
      "\u001b[0;31mFileNotFoundError\u001b[0m                         Traceback (most recent call last)",
      "\u001b[0;32m/tmp/ipykernel_19/1133996240.py\u001b[0m in \u001b[0;36m<module>\u001b[0;34m\u001b[0m\n\u001b[0;32m----> 1\u001b[0;31m \u001b[0mcountry\u001b[0m\u001b[0;34m=\u001b[0m\u001b[0mpd\u001b[0m\u001b[0;34m.\u001b[0m\u001b[0mread_csv\u001b[0m\u001b[0;34m(\u001b[0m\u001b[0;34m'/Users/apple/Documents/Data science/EDA project/country_vaccinations.csv'\u001b[0m\u001b[0;34m)\u001b[0m\u001b[0;34m\u001b[0m\u001b[0;34m\u001b[0m\u001b[0m\n\u001b[0m\u001b[1;32m      2\u001b[0m \u001b[0mmanu\u001b[0m\u001b[0;34m=\u001b[0m\u001b[0mpd\u001b[0m\u001b[0;34m.\u001b[0m\u001b[0mread_csv\u001b[0m\u001b[0;34m(\u001b[0m\u001b[0;34m'/Users/apple/Documents/Data science/EDA project/country_vaccinations_by_manufacturer.csv'\u001b[0m\u001b[0;34m)\u001b[0m\u001b[0;34m\u001b[0m\u001b[0;34m\u001b[0m\u001b[0m\n",
      "\u001b[0;32m/opt/conda/lib/python3.7/site-packages/pandas/util/_decorators.py\u001b[0m in \u001b[0;36mwrapper\u001b[0;34m(*args, **kwargs)\u001b[0m\n\u001b[1;32m    309\u001b[0m                     \u001b[0mstacklevel\u001b[0m\u001b[0;34m=\u001b[0m\u001b[0mstacklevel\u001b[0m\u001b[0;34m,\u001b[0m\u001b[0;34m\u001b[0m\u001b[0;34m\u001b[0m\u001b[0m\n\u001b[1;32m    310\u001b[0m                 )\n\u001b[0;32m--> 311\u001b[0;31m             \u001b[0;32mreturn\u001b[0m \u001b[0mfunc\u001b[0m\u001b[0;34m(\u001b[0m\u001b[0;34m*\u001b[0m\u001b[0margs\u001b[0m\u001b[0;34m,\u001b[0m \u001b[0;34m**\u001b[0m\u001b[0mkwargs\u001b[0m\u001b[0;34m)\u001b[0m\u001b[0;34m\u001b[0m\u001b[0;34m\u001b[0m\u001b[0m\n\u001b[0m\u001b[1;32m    312\u001b[0m \u001b[0;34m\u001b[0m\u001b[0m\n\u001b[1;32m    313\u001b[0m         \u001b[0;32mreturn\u001b[0m \u001b[0mwrapper\u001b[0m\u001b[0;34m\u001b[0m\u001b[0;34m\u001b[0m\u001b[0m\n",
      "\u001b[0;32m/opt/conda/lib/python3.7/site-packages/pandas/io/parsers/readers.py\u001b[0m in \u001b[0;36mread_csv\u001b[0;34m(filepath_or_buffer, sep, delimiter, header, names, index_col, usecols, squeeze, prefix, mangle_dupe_cols, dtype, engine, converters, true_values, false_values, skipinitialspace, skiprows, skipfooter, nrows, na_values, keep_default_na, na_filter, verbose, skip_blank_lines, parse_dates, infer_datetime_format, keep_date_col, date_parser, dayfirst, cache_dates, iterator, chunksize, compression, thousands, decimal, lineterminator, quotechar, quoting, doublequote, escapechar, comment, encoding, encoding_errors, dialect, error_bad_lines, warn_bad_lines, on_bad_lines, delim_whitespace, low_memory, memory_map, float_precision, storage_options)\u001b[0m\n\u001b[1;32m    584\u001b[0m     \u001b[0mkwds\u001b[0m\u001b[0;34m.\u001b[0m\u001b[0mupdate\u001b[0m\u001b[0;34m(\u001b[0m\u001b[0mkwds_defaults\u001b[0m\u001b[0;34m)\u001b[0m\u001b[0;34m\u001b[0m\u001b[0;34m\u001b[0m\u001b[0m\n\u001b[1;32m    585\u001b[0m \u001b[0;34m\u001b[0m\u001b[0m\n\u001b[0;32m--> 586\u001b[0;31m     \u001b[0;32mreturn\u001b[0m \u001b[0m_read\u001b[0m\u001b[0;34m(\u001b[0m\u001b[0mfilepath_or_buffer\u001b[0m\u001b[0;34m,\u001b[0m \u001b[0mkwds\u001b[0m\u001b[0;34m)\u001b[0m\u001b[0;34m\u001b[0m\u001b[0;34m\u001b[0m\u001b[0m\n\u001b[0m\u001b[1;32m    587\u001b[0m \u001b[0;34m\u001b[0m\u001b[0m\n\u001b[1;32m    588\u001b[0m \u001b[0;34m\u001b[0m\u001b[0m\n",
      "\u001b[0;32m/opt/conda/lib/python3.7/site-packages/pandas/io/parsers/readers.py\u001b[0m in \u001b[0;36m_read\u001b[0;34m(filepath_or_buffer, kwds)\u001b[0m\n\u001b[1;32m    480\u001b[0m \u001b[0;34m\u001b[0m\u001b[0m\n\u001b[1;32m    481\u001b[0m     \u001b[0;31m# Create the parser.\u001b[0m\u001b[0;34m\u001b[0m\u001b[0;34m\u001b[0m\u001b[0;34m\u001b[0m\u001b[0m\n\u001b[0;32m--> 482\u001b[0;31m     \u001b[0mparser\u001b[0m \u001b[0;34m=\u001b[0m \u001b[0mTextFileReader\u001b[0m\u001b[0;34m(\u001b[0m\u001b[0mfilepath_or_buffer\u001b[0m\u001b[0;34m,\u001b[0m \u001b[0;34m**\u001b[0m\u001b[0mkwds\u001b[0m\u001b[0;34m)\u001b[0m\u001b[0;34m\u001b[0m\u001b[0;34m\u001b[0m\u001b[0m\n\u001b[0m\u001b[1;32m    483\u001b[0m \u001b[0;34m\u001b[0m\u001b[0m\n\u001b[1;32m    484\u001b[0m     \u001b[0;32mif\u001b[0m \u001b[0mchunksize\u001b[0m \u001b[0;32mor\u001b[0m \u001b[0miterator\u001b[0m\u001b[0;34m:\u001b[0m\u001b[0;34m\u001b[0m\u001b[0;34m\u001b[0m\u001b[0m\n",
      "\u001b[0;32m/opt/conda/lib/python3.7/site-packages/pandas/io/parsers/readers.py\u001b[0m in \u001b[0;36m__init__\u001b[0;34m(self, f, engine, **kwds)\u001b[0m\n\u001b[1;32m    809\u001b[0m             \u001b[0mself\u001b[0m\u001b[0;34m.\u001b[0m\u001b[0moptions\u001b[0m\u001b[0;34m[\u001b[0m\u001b[0;34m\"has_index_names\"\u001b[0m\u001b[0;34m]\u001b[0m \u001b[0;34m=\u001b[0m \u001b[0mkwds\u001b[0m\u001b[0;34m[\u001b[0m\u001b[0;34m\"has_index_names\"\u001b[0m\u001b[0;34m]\u001b[0m\u001b[0;34m\u001b[0m\u001b[0;34m\u001b[0m\u001b[0m\n\u001b[1;32m    810\u001b[0m \u001b[0;34m\u001b[0m\u001b[0m\n\u001b[0;32m--> 811\u001b[0;31m         \u001b[0mself\u001b[0m\u001b[0;34m.\u001b[0m\u001b[0m_engine\u001b[0m \u001b[0;34m=\u001b[0m \u001b[0mself\u001b[0m\u001b[0;34m.\u001b[0m\u001b[0m_make_engine\u001b[0m\u001b[0;34m(\u001b[0m\u001b[0mself\u001b[0m\u001b[0;34m.\u001b[0m\u001b[0mengine\u001b[0m\u001b[0;34m)\u001b[0m\u001b[0;34m\u001b[0m\u001b[0;34m\u001b[0m\u001b[0m\n\u001b[0m\u001b[1;32m    812\u001b[0m \u001b[0;34m\u001b[0m\u001b[0m\n\u001b[1;32m    813\u001b[0m     \u001b[0;32mdef\u001b[0m \u001b[0mclose\u001b[0m\u001b[0;34m(\u001b[0m\u001b[0mself\u001b[0m\u001b[0;34m)\u001b[0m\u001b[0;34m:\u001b[0m\u001b[0;34m\u001b[0m\u001b[0;34m\u001b[0m\u001b[0m\n",
      "\u001b[0;32m/opt/conda/lib/python3.7/site-packages/pandas/io/parsers/readers.py\u001b[0m in \u001b[0;36m_make_engine\u001b[0;34m(self, engine)\u001b[0m\n\u001b[1;32m   1038\u001b[0m             )\n\u001b[1;32m   1039\u001b[0m         \u001b[0;31m# error: Too many arguments for \"ParserBase\"\u001b[0m\u001b[0;34m\u001b[0m\u001b[0;34m\u001b[0m\u001b[0;34m\u001b[0m\u001b[0m\n\u001b[0;32m-> 1040\u001b[0;31m         \u001b[0;32mreturn\u001b[0m \u001b[0mmapping\u001b[0m\u001b[0;34m[\u001b[0m\u001b[0mengine\u001b[0m\u001b[0;34m]\u001b[0m\u001b[0;34m(\u001b[0m\u001b[0mself\u001b[0m\u001b[0;34m.\u001b[0m\u001b[0mf\u001b[0m\u001b[0;34m,\u001b[0m \u001b[0;34m**\u001b[0m\u001b[0mself\u001b[0m\u001b[0;34m.\u001b[0m\u001b[0moptions\u001b[0m\u001b[0;34m)\u001b[0m  \u001b[0;31m# type: ignore[call-arg]\u001b[0m\u001b[0;34m\u001b[0m\u001b[0;34m\u001b[0m\u001b[0m\n\u001b[0m\u001b[1;32m   1041\u001b[0m \u001b[0;34m\u001b[0m\u001b[0m\n\u001b[1;32m   1042\u001b[0m     \u001b[0;32mdef\u001b[0m \u001b[0m_failover_to_python\u001b[0m\u001b[0;34m(\u001b[0m\u001b[0mself\u001b[0m\u001b[0;34m)\u001b[0m\u001b[0;34m:\u001b[0m\u001b[0;34m\u001b[0m\u001b[0;34m\u001b[0m\u001b[0m\n",
      "\u001b[0;32m/opt/conda/lib/python3.7/site-packages/pandas/io/parsers/c_parser_wrapper.py\u001b[0m in \u001b[0;36m__init__\u001b[0;34m(self, src, **kwds)\u001b[0m\n\u001b[1;32m     49\u001b[0m \u001b[0;34m\u001b[0m\u001b[0m\n\u001b[1;32m     50\u001b[0m         \u001b[0;31m# open handles\u001b[0m\u001b[0;34m\u001b[0m\u001b[0;34m\u001b[0m\u001b[0;34m\u001b[0m\u001b[0m\n\u001b[0;32m---> 51\u001b[0;31m         \u001b[0mself\u001b[0m\u001b[0;34m.\u001b[0m\u001b[0m_open_handles\u001b[0m\u001b[0;34m(\u001b[0m\u001b[0msrc\u001b[0m\u001b[0;34m,\u001b[0m \u001b[0mkwds\u001b[0m\u001b[0;34m)\u001b[0m\u001b[0;34m\u001b[0m\u001b[0;34m\u001b[0m\u001b[0m\n\u001b[0m\u001b[1;32m     52\u001b[0m         \u001b[0;32massert\u001b[0m \u001b[0mself\u001b[0m\u001b[0;34m.\u001b[0m\u001b[0mhandles\u001b[0m \u001b[0;32mis\u001b[0m \u001b[0;32mnot\u001b[0m \u001b[0;32mNone\u001b[0m\u001b[0;34m\u001b[0m\u001b[0;34m\u001b[0m\u001b[0m\n\u001b[1;32m     53\u001b[0m \u001b[0;34m\u001b[0m\u001b[0m\n",
      "\u001b[0;32m/opt/conda/lib/python3.7/site-packages/pandas/io/parsers/base_parser.py\u001b[0m in \u001b[0;36m_open_handles\u001b[0;34m(self, src, kwds)\u001b[0m\n\u001b[1;32m    227\u001b[0m             \u001b[0mmemory_map\u001b[0m\u001b[0;34m=\u001b[0m\u001b[0mkwds\u001b[0m\u001b[0;34m.\u001b[0m\u001b[0mget\u001b[0m\u001b[0;34m(\u001b[0m\u001b[0;34m\"memory_map\"\u001b[0m\u001b[0;34m,\u001b[0m \u001b[0;32mFalse\u001b[0m\u001b[0;34m)\u001b[0m\u001b[0;34m,\u001b[0m\u001b[0;34m\u001b[0m\u001b[0;34m\u001b[0m\u001b[0m\n\u001b[1;32m    228\u001b[0m             \u001b[0mstorage_options\u001b[0m\u001b[0;34m=\u001b[0m\u001b[0mkwds\u001b[0m\u001b[0;34m.\u001b[0m\u001b[0mget\u001b[0m\u001b[0;34m(\u001b[0m\u001b[0;34m\"storage_options\"\u001b[0m\u001b[0;34m,\u001b[0m \u001b[0;32mNone\u001b[0m\u001b[0;34m)\u001b[0m\u001b[0;34m,\u001b[0m\u001b[0;34m\u001b[0m\u001b[0;34m\u001b[0m\u001b[0m\n\u001b[0;32m--> 229\u001b[0;31m             \u001b[0merrors\u001b[0m\u001b[0;34m=\u001b[0m\u001b[0mkwds\u001b[0m\u001b[0;34m.\u001b[0m\u001b[0mget\u001b[0m\u001b[0;34m(\u001b[0m\u001b[0;34m\"encoding_errors\"\u001b[0m\u001b[0;34m,\u001b[0m \u001b[0;34m\"strict\"\u001b[0m\u001b[0;34m)\u001b[0m\u001b[0;34m,\u001b[0m\u001b[0;34m\u001b[0m\u001b[0;34m\u001b[0m\u001b[0m\n\u001b[0m\u001b[1;32m    230\u001b[0m         )\n\u001b[1;32m    231\u001b[0m \u001b[0;34m\u001b[0m\u001b[0m\n",
      "\u001b[0;32m/opt/conda/lib/python3.7/site-packages/pandas/io/common.py\u001b[0m in \u001b[0;36mget_handle\u001b[0;34m(path_or_buf, mode, encoding, compression, memory_map, is_text, errors, storage_options)\u001b[0m\n\u001b[1;32m    705\u001b[0m                 \u001b[0mencoding\u001b[0m\u001b[0;34m=\u001b[0m\u001b[0mioargs\u001b[0m\u001b[0;34m.\u001b[0m\u001b[0mencoding\u001b[0m\u001b[0;34m,\u001b[0m\u001b[0;34m\u001b[0m\u001b[0;34m\u001b[0m\u001b[0m\n\u001b[1;32m    706\u001b[0m                 \u001b[0merrors\u001b[0m\u001b[0;34m=\u001b[0m\u001b[0merrors\u001b[0m\u001b[0;34m,\u001b[0m\u001b[0;34m\u001b[0m\u001b[0;34m\u001b[0m\u001b[0m\n\u001b[0;32m--> 707\u001b[0;31m                 \u001b[0mnewline\u001b[0m\u001b[0;34m=\u001b[0m\u001b[0;34m\"\"\u001b[0m\u001b[0;34m,\u001b[0m\u001b[0;34m\u001b[0m\u001b[0;34m\u001b[0m\u001b[0m\n\u001b[0m\u001b[1;32m    708\u001b[0m             )\n\u001b[1;32m    709\u001b[0m         \u001b[0;32melse\u001b[0m\u001b[0;34m:\u001b[0m\u001b[0;34m\u001b[0m\u001b[0;34m\u001b[0m\u001b[0m\n",
      "\u001b[0;31mFileNotFoundError\u001b[0m: [Errno 2] No such file or directory: '/Users/apple/Documents/Data science/EDA project/country_vaccinations.csv'"
     ]
    }
   ],
   "source": [
    "country=pd.read_csv('/Users/apple/Documents/Data science/EDA project/country_vaccinations.csv')\n",
    "manu=pd.read_csv('/Users/apple/Documents/Data science/EDA project/country_vaccinations_by_manufacturer.csv')\n"
   ]
  },
  {
   "cell_type": "code",
   "execution_count": null,
   "id": "ac7564f7",
   "metadata": {
    "papermill": {
     "duration": null,
     "end_time": null,
     "exception": null,
     "start_time": null,
     "status": "pending"
    },
    "tags": []
   },
   "outputs": [],
   "source": [
    "country.head(20)"
   ]
  },
  {
   "cell_type": "code",
   "execution_count": null,
   "id": "0e62a2f8",
   "metadata": {
    "papermill": {
     "duration": null,
     "end_time": null,
     "exception": null,
     "start_time": null,
     "status": "pending"
    },
    "tags": []
   },
   "outputs": [],
   "source": [
    "manu.head()"
   ]
  },
  {
   "cell_type": "code",
   "execution_count": null,
   "id": "303b6c61",
   "metadata": {
    "papermill": {
     "duration": null,
     "end_time": null,
     "exception": null,
     "start_time": null,
     "status": "pending"
    },
    "tags": []
   },
   "outputs": [],
   "source": [
    "country.shape"
   ]
  },
  {
   "cell_type": "code",
   "execution_count": null,
   "id": "85b3c3cf",
   "metadata": {
    "papermill": {
     "duration": null,
     "end_time": null,
     "exception": null,
     "start_time": null,
     "status": "pending"
    },
    "tags": []
   },
   "outputs": [],
   "source": [
    "manu.shape"
   ]
  },
  {
   "cell_type": "code",
   "execution_count": null,
   "id": "5d9b37b7",
   "metadata": {
    "papermill": {
     "duration": null,
     "end_time": null,
     "exception": null,
     "start_time": null,
     "status": "pending"
    },
    "tags": []
   },
   "outputs": [],
   "source": [
    "country.describe()"
   ]
  },
  {
   "cell_type": "code",
   "execution_count": null,
   "id": "12a5ed1e",
   "metadata": {
    "papermill": {
     "duration": null,
     "end_time": null,
     "exception": null,
     "start_time": null,
     "status": "pending"
    },
    "tags": []
   },
   "outputs": [],
   "source": [
    "manu.describe()"
   ]
  },
  {
   "cell_type": "code",
   "execution_count": null,
   "id": "5269f957",
   "metadata": {
    "papermill": {
     "duration": null,
     "end_time": null,
     "exception": null,
     "start_time": null,
     "status": "pending"
    },
    "tags": []
   },
   "outputs": [],
   "source": [
    "country.isnull().sum()"
   ]
  },
  {
   "cell_type": "code",
   "execution_count": null,
   "id": "fd3f34c9",
   "metadata": {
    "papermill": {
     "duration": null,
     "end_time": null,
     "exception": null,
     "start_time": null,
     "status": "pending"
    },
    "tags": []
   },
   "outputs": [],
   "source": [
    "#Fill NaN with 0 and drop all countries with iso_code = 0\n",
    "country.fillna(0,inplace=True)"
   ]
  },
  {
   "cell_type": "markdown",
   "id": "89f73b40",
   "metadata": {
    "papermill": {
     "duration": null,
     "end_time": null,
     "exception": null,
     "start_time": null,
     "status": "pending"
    },
    "tags": []
   },
   "source": [
    "The null value can be filled with 0 becuase the measurements are taken every couple day so cells with NaN are days when no measurement is taken so can be filled with 0."
   ]
  },
  {
   "cell_type": "code",
   "execution_count": null,
   "id": "6e6cd5fd",
   "metadata": {
    "papermill": {
     "duration": null,
     "end_time": null,
     "exception": null,
     "start_time": null,
     "status": "pending"
    },
    "tags": []
   },
   "outputs": [],
   "source": [
    "manu.isnull().sum()"
   ]
  },
  {
   "cell_type": "code",
   "execution_count": null,
   "id": "c6934254",
   "metadata": {
    "papermill": {
     "duration": null,
     "end_time": null,
     "exception": null,
     "start_time": null,
     "status": "pending"
    },
    "tags": []
   },
   "outputs": [],
   "source": [
    "country.columns"
   ]
  },
  {
   "cell_type": "code",
   "execution_count": null,
   "id": "89c13d17",
   "metadata": {
    "papermill": {
     "duration": null,
     "end_time": null,
     "exception": null,
     "start_time": null,
     "status": "pending"
    },
    "tags": []
   },
   "outputs": [],
   "source": [
    "country.drop(['daily_vaccinations_raw', 'source_name', 'source_website'],axis=1, inplace=True)"
   ]
  },
  {
   "cell_type": "code",
   "execution_count": null,
   "id": "9d97f5c7",
   "metadata": {
    "papermill": {
     "duration": null,
     "end_time": null,
     "exception": null,
     "start_time": null,
     "status": "pending"
    },
    "tags": []
   },
   "outputs": [],
   "source": [
    "country.new=country[['country','total_vaccinations','people_vaccinated', 'people_fully_vaccinated']]\n",
    "country.new\n",
    "country.new=country.new.groupby('country').max()\n",
    "country.new.reset_index()"
   ]
  },
  {
   "cell_type": "code",
   "execution_count": null,
   "id": "a3490057",
   "metadata": {
    "papermill": {
     "duration": null,
     "end_time": null,
     "exception": null,
     "start_time": null,
     "status": "pending"
    },
    "tags": []
   },
   "outputs": [],
   "source": [
    "country.new.shape"
   ]
  },
  {
   "cell_type": "markdown",
   "id": "e0bf6740",
   "metadata": {
    "papermill": {
     "duration": null,
     "end_time": null,
     "exception": null,
     "start_time": null,
     "status": "pending"
    },
    "tags": []
   },
   "source": [
    "# New dataset with Asia countries only"
   ]
  },
  {
   "cell_type": "code",
   "execution_count": null,
   "id": "7e1a27c0",
   "metadata": {
    "papermill": {
     "duration": null,
     "end_time": null,
     "exception": null,
     "start_time": null,
     "status": "pending"
    },
    "tags": []
   },
   "outputs": [],
   "source": [
    "Asia = country.new.loc[['Afghanistan','Armenia','Azerbaijan','Bahrain','Bangladesh','Bhutan','Brunei','Cambodia','China'\n",
    "                        ,'Cyprus','Egypt','Hong Kong','Georgia','India','Indonesia','Iran','Iraq','Israel','Japan'\n",
    "                       ,'Jordan','Kazakhstan','Kuwait','Kyrgyzstan','Laos','Lebanon','Malaysia','Maldives','Mongolia'\n",
    "                       ,'Myanmar','Nepal','Oman','Pakistan','Palestine','Philippines','Qatar','Israel','Russia'\n",
    "                       ,'Saudi Arabia','Singapore','South Korea','Sri Lanka','Syria','Taiwan','Tajikistan','Thailand','Timor','Turkey'\n",
    "                       ,'Turkmenistan','United Arab Emirates','Uzbekistan','Vietnam','Yemen']]\n",
    "Asia.reset_index()"
   ]
  },
  {
   "cell_type": "code",
   "execution_count": null,
   "id": "4c4d59cf",
   "metadata": {
    "papermill": {
     "duration": null,
     "end_time": null,
     "exception": null,
     "start_time": null,
     "status": "pending"
    },
    "tags": []
   },
   "outputs": [],
   "source": [
    "Asia_vac = Asia.groupby('country').max().sort_values('total_vaccinations', ascending=False)\n",
    "Asia_vac  = Asia_vac .iloc[:10]\n",
    "Asia_vac "
   ]
  },
  {
   "cell_type": "code",
   "execution_count": null,
   "id": "b6616758",
   "metadata": {
    "papermill": {
     "duration": null,
     "end_time": null,
     "exception": null,
     "start_time": null,
     "status": "pending"
    },
    "tags": []
   },
   "outputs": [],
   "source": [
    "plt.figure(figsize=(18, 6))\n",
    "plt.bar(Asia_vac.index, Asia_vac.total_vaccinations)\n",
    "\n",
    "plt.xticks(rotation = 90)\n",
    "plt.ylabel('Total Vaccinations')\n",
    "plt.xlabel('All Asian Country')\n",
    "plt.show()"
   ]
  },
  {
   "cell_type": "markdown",
   "id": "7e9c40cf",
   "metadata": {
    "papermill": {
     "duration": null,
     "end_time": null,
     "exception": null,
     "start_time": null,
     "status": "pending"
    },
    "tags": []
   },
   "source": [
    "# Vaccination record in Hong Kong"
   ]
  },
  {
   "cell_type": "code",
   "execution_count": null,
   "id": "1ead069f",
   "metadata": {
    "papermill": {
     "duration": null,
     "end_time": null,
     "exception": null,
     "start_time": null,
     "status": "pending"
    },
    "tags": []
   },
   "outputs": [],
   "source": [
    "country_HK = country[country['iso_code'] == 'HKG'].copy()\n",
    "country_HK "
   ]
  },
  {
   "cell_type": "code",
   "execution_count": null,
   "id": "947b2f24",
   "metadata": {
    "papermill": {
     "duration": null,
     "end_time": null,
     "exception": null,
     "start_time": null,
     "status": "pending"
    },
    "tags": []
   },
   "outputs": [],
   "source": [
    "#Plot total vaccinations as a function of date\n",
    "plt.figure(figsize=(18,6))\n",
    "sns.lineplot(data=country_HK, x=\"date\", y=\"total_vaccinations\")\n",
    "plt.title(\"Total vaccinations in Hong Kong\")\n",
    "plt.xticks(rotation=45)\n",
    "plt.show()"
   ]
  },
  {
   "cell_type": "markdown",
   "id": "2bc271e4",
   "metadata": {
    "papermill": {
     "duration": null,
     "end_time": null,
     "exception": null,
     "start_time": null,
     "status": "pending"
    },
    "tags": []
   },
   "source": [
    "The total vaccination has been increasing since the beginning of COVID."
   ]
  },
  {
   "cell_type": "code",
   "execution_count": null,
   "id": "71fabb42",
   "metadata": {
    "papermill": {
     "duration": null,
     "end_time": null,
     "exception": null,
     "start_time": null,
     "status": "pending"
    },
    "tags": []
   },
   "outputs": [],
   "source": [
    "#Plot daily vaccinations as a function of date\n",
    "plt.figure(figsize=(18,6))\n",
    "sns.lineplot(data=country_HK, x=\"date\", y=\"daily_vaccinations\")\n",
    "\n",
    "plt.xticks(rotation=90)\n",
    "plt.title(\"Daily vaccinations in Hong Kong\")"
   ]
  },
  {
   "cell_type": "markdown",
   "id": "b66fa68e",
   "metadata": {
    "papermill": {
     "duration": null,
     "end_time": null,
     "exception": null,
     "start_time": null,
     "status": "pending"
    },
    "tags": []
   },
   "source": [
    "HK experienced the 3rd wave of COVID-19 in July to August. They recorded the highest single day confirmed cases (149) since the outbreak on July 30th. Since the mean age of confirmed cases in the 3rd wave is the highest, the death rate of this eave is also the highest. The spike of confirmed cases and death rate might have motivated people to get vaccinated. "
   ]
  },
  {
   "cell_type": "markdown",
   "id": "dd8d30c0",
   "metadata": {
    "papermill": {
     "duration": null,
     "end_time": null,
     "exception": null,
     "start_time": null,
     "status": "pending"
    },
    "tags": []
   },
   "source": [
    "# Choropleth Map of total vaccination"
   ]
  },
  {
   "cell_type": "code",
   "execution_count": null,
   "id": "47a2a1ed",
   "metadata": {
    "papermill": {
     "duration": null,
     "end_time": null,
     "exception": null,
     "start_time": null,
     "status": "pending"
    },
    "tags": []
   },
   "outputs": [],
   "source": [
    "fig = px.choropleth(country.reset_index(), locations=\"iso_code\",\n",
    "                    color=\"total_vaccinations\",\n",
    "                    color_continuous_scale=px.colors.sequential.Electric,\n",
    "                   title= \"Total vaccinations\")\n",
    "\n",
    "fig.update_layout(margin={\"r\":0,\"t\":0,\"l\":0,\"b\":0})  #No margin on left, right, top and bottom\n",
    "fig.show()"
   ]
  },
  {
   "cell_type": "markdown",
   "id": "6632a3ca",
   "metadata": {
    "papermill": {
     "duration": null,
     "end_time": null,
     "exception": null,
     "start_time": null,
     "status": "pending"
    },
    "tags": []
   },
   "source": [
    "# Most popular vaccine in the world"
   ]
  },
  {
   "cell_type": "code",
   "execution_count": null,
   "id": "b410dece",
   "metadata": {
    "papermill": {
     "duration": null,
     "end_time": null,
     "exception": null,
     "start_time": null,
     "status": "pending"
    },
    "tags": []
   },
   "outputs": [],
   "source": [
    "#according to the country_vaccinations_by_manufacturer dataset, vaccines are classified considering country and total_vaccination\n",
    "vac=manu.groupby(\"vaccine\")[\"location\", \"total_vaccinations\"].max().sort_values('total_vaccinations', ascending=False)\n",
    "vac"
   ]
  },
  {
   "cell_type": "code",
   "execution_count": null,
   "id": "b3d4be36",
   "metadata": {
    "papermill": {
     "duration": null,
     "end_time": null,
     "exception": null,
     "start_time": null,
     "status": "pending"
    },
    "tags": []
   },
   "outputs": [],
   "source": [
    "vac_count = manu.groupby(\"vaccine\")[\"total_vaccinations\"].max()\n",
    "vac_counts = vac_count.sort_values(ascending = False)\n",
    "vac_counts"
   ]
  },
  {
   "cell_type": "code",
   "execution_count": null,
   "id": "0249140a",
   "metadata": {
    "papermill": {
     "duration": null,
     "end_time": null,
     "exception": null,
     "start_time": null,
     "status": "pending"
    },
    "tags": []
   },
   "outputs": [],
   "source": [
    "sns.barplot(vac_counts.index, vac_counts)\n",
    "plt.xticks(rotation=75)"
   ]
  },
  {
   "cell_type": "markdown",
   "id": "369fe66c",
   "metadata": {
    "papermill": {
     "duration": null,
     "end_time": null,
     "exception": null,
     "start_time": null,
     "status": "pending"
    },
    "tags": []
   },
   "source": [
    "# Country with highest number of vaccinated population"
   ]
  },
  {
   "cell_type": "code",
   "execution_count": null,
   "id": "6c223f5a",
   "metadata": {
    "papermill": {
     "duration": null,
     "end_time": null,
     "exception": null,
     "start_time": null,
     "status": "pending"
    },
    "tags": []
   },
   "outputs": [],
   "source": [
    "vaccinated_country=country.groupby('country')[['total_vaccinations']].max()\n",
    "most_vaccinated_country=vaccinated_country.sort_values('total_vaccinations', ascending=False).head(10)\n",
    "most_vaccinated_country"
   ]
  },
  {
   "cell_type": "code",
   "execution_count": null,
   "id": "bde48874",
   "metadata": {
    "papermill": {
     "duration": null,
     "end_time": null,
     "exception": null,
     "start_time": null,
     "status": "pending"
    },
    "tags": []
   },
   "outputs": [],
   "source": [
    "plt.plot(most_vaccinated_country, 'p-c')\n",
    "plt.xticks(rotation=75)\n",
    "plt.title('Top 10 Countries in vaccinating more people');"
   ]
  },
  {
   "cell_type": "markdown",
   "id": "ef4dabd6",
   "metadata": {
    "papermill": {
     "duration": null,
     "end_time": null,
     "exception": null,
     "start_time": null,
     "status": "pending"
    },
    "tags": []
   },
   "source": [
    "# Top 10 countries with the highest vaccination ratio\n",
    "\n",
    "Total vaccinations per hundred - ratio (in percent) between vaccination number and total population up to the date in the country"
   ]
  },
  {
   "cell_type": "code",
   "execution_count": null,
   "id": "b7101ac2",
   "metadata": {
    "papermill": {
     "duration": null,
     "end_time": null,
     "exception": null,
     "start_time": null,
     "status": "pending"
    },
    "tags": []
   },
   "outputs": [],
   "source": [
    "vaccinated_prop_country=country.groupby('country')[['total_vaccinations_per_hundred']].max()\n",
    "vaccinated_prop_country=vaccinated_prop_country.sort_values('total_vaccinations_per_hundred', ascending=False).head(10)\n",
    "vaccinated_prop_country"
   ]
  },
  {
   "cell_type": "markdown",
   "id": "02041efb",
   "metadata": {
    "papermill": {
     "duration": null,
     "end_time": null,
     "exception": null,
     "start_time": null,
     "status": "pending"
    },
    "tags": []
   },
   "source": [
    "The number can be higher than 100 because some people receive more than 1 dose."
   ]
  },
  {
   "cell_type": "code",
   "execution_count": null,
   "id": "8b058241",
   "metadata": {
    "papermill": {
     "duration": null,
     "end_time": null,
     "exception": null,
     "start_time": null,
     "status": "pending"
    },
    "tags": []
   },
   "outputs": [],
   "source": [
    "plt.plot(vaccinated_prop_country, 'p-c')\n",
    "plt.xticks(rotation=75)\n",
    "plt.title('Top 10 Countries in highest ratio of vaccination');"
   ]
  },
  {
   "cell_type": "markdown",
   "id": "a7b64099",
   "metadata": {
    "papermill": {
     "duration": null,
     "end_time": null,
     "exception": null,
     "start_time": null,
     "status": "pending"
    },
    "tags": []
   },
   "source": [
    "# Countries with highest number of people fully vaccinated\n",
    "Immunization refers to recieving entire set of vaccinations, typically 2. According to the country_vaccinations dataset, the country named Gibralter was ranked as first and Israel placed as fifth."
   ]
  },
  {
   "cell_type": "code",
   "execution_count": null,
   "id": "caabb428",
   "metadata": {
    "papermill": {
     "duration": null,
     "end_time": null,
     "exception": null,
     "start_time": null,
     "status": "pending"
    },
    "tags": []
   },
   "outputs": [],
   "source": [
    "most_people_fully_immunized=country.groupby('country')[['people_fully_vaccinated_per_hundred']].max()\n",
    "most_people_fully_immunized_country=most_people_fully_immunized.sort_values('people_fully_vaccinated_per_hundred', ascending=False).head(10)\n",
    "most_people_fully_immunized_country"
   ]
  },
  {
   "cell_type": "code",
   "execution_count": null,
   "id": "04304fdb",
   "metadata": {
    "papermill": {
     "duration": null,
     "end_time": null,
     "exception": null,
     "start_time": null,
     "status": "pending"
    },
    "tags": []
   },
   "outputs": [],
   "source": [
    "plt.plot(most_people_fully_immunized_country, 'p-m')\n",
    "plt.xticks(rotation=75)\n",
    "plt.title('Top 10 Fully Vaccinated Countries per hundred');"
   ]
  },
  {
   "cell_type": "markdown",
   "id": "20e15be1",
   "metadata": {
    "papermill": {
     "duration": null,
     "end_time": null,
     "exception": null,
     "start_time": null,
     "status": "pending"
    },
    "tags": []
   },
   "source": [
    "In this WHO dataset which recorded vaccination data on country level, we were able to extract many useful information. China, India, and the United States are the top 3 countries with the highest number of total vaccination administered. This high number of vaccination can be attributed to the country's large population, as they were not countries with the highest vaccination ratio. Gibraltar (a British Overseas Territory), Cuba, and Chile were ranked the highest when examining ratio (in percent) between vaccination number and total population. Gibraltar,Pitcairn Island (another British Overseas Territory), and United Arab Emirates were the 3 countries with the highest proportion of people fully vaccinated (typically 2 doses). However, with the new Omicron variates and urges for people to get the 3rd jab, the ranking is expected to change. As for the vaccine, Pfizer/BioNTech,Moderna, andOxford/AstraZeneca are the top 3 vaccines being administrated around the world with Sinovac comes up as a close 4th. An new dataset containing only vaccination record of Asia countries is extracted for possible ML project. "
   ]
  },
  {
   "cell_type": "code",
   "execution_count": null,
   "id": "82739b81",
   "metadata": {
    "papermill": {
     "duration": null,
     "end_time": null,
     "exception": null,
     "start_time": null,
     "status": "pending"
    },
    "tags": []
   },
   "outputs": [],
   "source": []
  }
 ],
 "metadata": {
  "kernelspec": {
   "display_name": "Python 3",
   "language": "python",
   "name": "python3"
  },
  "language_info": {
   "codemirror_mode": {
    "name": "ipython",
    "version": 3
   },
   "file_extension": ".py",
   "mimetype": "text/x-python",
   "name": "python",
   "nbconvert_exporter": "python",
   "pygments_lexer": "ipython3",
   "version": "3.7.12"
  },
  "papermill": {
   "default_parameters": {},
   "duration": 44.253501,
   "end_time": "2022-01-25T16:16:53.008642",
   "environment_variables": {},
   "exception": true,
   "input_path": "__notebook__.ipynb",
   "output_path": "__notebook__.ipynb",
   "parameters": {},
   "start_time": "2022-01-25T16:16:08.755141",
   "version": "2.3.3"
  }
 },
 "nbformat": 4,
 "nbformat_minor": 5
}
